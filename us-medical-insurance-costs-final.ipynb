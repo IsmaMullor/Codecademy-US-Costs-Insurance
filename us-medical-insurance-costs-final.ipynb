{
 "cells": [
  {
   "cell_type": "markdown",
   "metadata": {},
   "source": [
    "# U.S. Medical Insurance Costs"
   ]
  },
  {
   "cell_type": "markdown",
   "metadata": {},
   "source": [
    "Initial tasks: data inspection and display"
   ]
  },
  {
   "cell_type": "code",
   "execution_count": null,
   "metadata": {},
   "outputs": [],
   "source": []
  },
  {
   "cell_type": "code",
   "execution_count": 2,
   "metadata": {},
   "outputs": [
    {
     "name": "stdout",
     "output_type": "stream",
     "text": [
      "      age     sex     bmi  children smoker     region      charges\n",
      "0      19  female  27.900         0    yes  southwest  16884.92400\n",
      "1      18    male  33.770         1     no  southeast   1725.55230\n",
      "2      28    male  33.000         3     no  southeast   4449.46200\n",
      "3      33    male  22.705         0     no  northwest  21984.47061\n",
      "4      32    male  28.880         0     no  northwest   3866.85520\n",
      "...   ...     ...     ...       ...    ...        ...          ...\n",
      "1333   50    male  30.970         3     no  northwest  10600.54830\n",
      "1334   18  female  31.920         0     no  northeast   2205.98080\n",
      "1335   18  female  36.850         0     no  southeast   1629.83350\n",
      "1336   21  female  25.800         0     no  southwest   2007.94500\n",
      "1337   61  female  29.070         0    yes  northwest  29141.36030\n",
      "\n",
      "[1338 rows x 7 columns]\n"
     ]
    }
   ],
   "source": [
    "import pandas as pd\n",
    "import numpy as np\n",
    "import matplotlib as plt\n",
    "\n",
    "#NOTE TO SELF: Never forget the extension on the read and use r as the special character in order to avoid trouble\n",
    "dataset = pd.read_csv(r'C:\\Users\\ismae\\Downloads\\archive\\insurance.csv')\n",
    "print(dataset)"
   ]
  },
  {
   "cell_type": "markdown",
   "metadata": {},
   "source": [
    "Data analysis I: Finding out whether a higher BMI means higher Costs stratifying for gender\n",
    "\n",
    "\n"
   ]
  },
  {
   "cell_type": "code",
   "execution_count": 10,
   "metadata": {},
   "outputs": [],
   "source": [
    "#Step 1: turn the data from the csv into first a list per each variable, then a list of lists and then a dictionary\n",
    "\n",
    "#create lists according to columns\n",
    "age = []\n",
    "sex = []\n",
    "bmi = []\n",
    "children = []\n",
    "smoker = []\n",
    "region = []\n",
    "charges = []\n",
    "\n",
    "\n",
    "#fill in lists\n",
    "with open(r'C:\\Users\\ismae\\Downloads\\archive\\insurance.csv') as data_file:\n",
    "    data = csv.DictReader(data_file)\n",
    "    for i in data:\n",
    "        age.append(i['age'])\n",
    "        sex.append(i['sex'])\n",
    "        bmi.append(i['bmi'])\n",
    "        children.append(i['children'])\n",
    "        smoker.append(i['smoker'])\n",
    "        region.append(i['region'])\n",
    "        charges.append(i['charges'])\n",
    "\n",
    "\n",
    "\n",
    "#convert age, charges, children lists to integer or float\n",
    "age = [int(element) for element in age]\n",
    "charges = [float(element) for element in charges]\n",
    "children = [int(element) for element in children]\n",
    "\n",
    "#create a list of lists\n",
    "list_of_lists = [age, sex, bmi, children, smoker, region, charges]\n",
    "\n",
    "# Create a dictionary of patients\n",
    "\n",
    "patients = {}\n",
    "\n",
    "def lists_to_dictionary(list):\n",
    "    index = 0\n",
    "    for item in range(len(age)):\n",
    "        patients[\"Patient \" + str(index)] = {\"Age\": age[index], \"Sex\": sex[index], \"BMI\": bmi[index], \"Number of Children\": kiddos[index], \"Smoker?\": smoker[index], \"Region\": region[index], \"Charges\": costs[index]}\n",
    "        index += 1\n",
    "    return patients\n",
    "\n",
    "lists_to_dictionary(list_of_lists)\n",
    "#print(patients)\n",
    "\n",
    "#NOW WITH OUR DEFINED FUNCTIONS OR WE WILL FIND THE AVERAGES\n",
    "def sex_avg_cost_calc(patients)\n",
    "    for i in len(range(patients.patient))\n",
    "        if patient.sex[i] == 'male'\n",
    "        male\n",
    "        "
   ]
  },
  {
   "cell_type": "markdown",
   "metadata": {},
   "source": [
    "Data analysis II: Finding out if there is a correlation between a discrete binary variable and the cost. More precisely we want to see if the costs are increased due to smoking"
   ]
  },
  {
   "cell_type": "code",
   "execution_count": null,
   "metadata": {},
   "outputs": [],
   "source": [
    "# What is the charge difference in the southeast between smokers and non-smokers? code taken from other github must double check names of variables\n",
    "\n",
    "def se_smoking_charges(dictionary):\n",
    "    smokers = 0\n",
    "    nonsmokers = 0\n",
    "    smoking_charges = 0\n",
    "    non_smoking_charges = 0\n",
    "    for patient in dictionary:\n",
    "        if dictionary[patient][\"Region\"] == \"southeast\" and dictionary[patient][\"Smoker?\"] == \"yes\":\n",
    "            smokers += 1\n",
    "            smoking_charges += dictionary[patient][\"Charges\"]\n",
    "        elif dictionary[patient][\"Region\"] == \"southeast\" and dictionary[patient][\"Smoker?\"] == \"no\":\n",
    "            nonsmokers += 1\n",
    "            non_smoking_charges += dictionary[patient][\"Charges\"]\n",
    "    print(\"Smokers in the southeast are charged an average of \" + str(round(smoking_charges / smokers, 2)) + \".\")\n",
    "    print(\"Non-smokers in the southeast are charged an average of \" + str(round(non_smoking_charges / nonsmokers, 2)) + \".\")\n",
    "\n",
    "se_smoking_charges(patients)"
   ]
  },
  {
   "cell_type": "markdown",
   "metadata": {},
   "source": [
    "Data analysis III: Scatterplot between two data (Code must be modified"
   ]
  },
  {
   "cell_type": "code",
   "execution_count": null,
   "metadata": {},
   "outputs": [],
   "source": [
    "BMI_Column = data.columns[2] # -> float\n",
    "# Charge Column # -> float\n",
    "\n",
    "BMI_vs_Charge = list(zip(BMI_Column, Charge_Column))\n",
    "\n",
    "BMI_vs_Charge = [(float(bmi), float(charge)) for bmi, charge in BMI_vs_Charge]\n",
    "\n",
    "Relationship_BMI_vs_Charge = zip(*BMI_vs_Charge)\n",
    "\n",
    "plt.scatter(*Relationship_BMI_vs_Charge)\n",
    "plt.title('Relationship between BMI and prices of insurance')\n",
    "plt.xlabel('BMI')\n",
    "plt.ylabel('Charges in USD')\n",
    "\n",
    "plt.show()"
   ]
  }
 ],
 "metadata": {
  "kernelspec": {
   "display_name": "Python 3 (ipykernel)",
   "language": "python",
   "name": "python3"
  },
  "language_info": {
   "codemirror_mode": {
    "name": "ipython",
    "version": 3
   },
   "file_extension": ".py",
   "mimetype": "text/x-python",
   "name": "python",
   "nbconvert_exporter": "python",
   "pygments_lexer": "ipython3",
   "version": "3.10.9"
  }
 },
 "nbformat": 4,
 "nbformat_minor": 4
}
